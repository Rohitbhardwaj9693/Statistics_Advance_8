{
 "cells": [
  {
   "cell_type": "code",
   "execution_count": 19,
   "id": "cb5abbdb-7280-4851-94b3-33d5b550321d",
   "metadata": {},
   "outputs": [
    {
     "name": "stdout",
     "output_type": "stream",
     "text": [
      "F-value 6.72961373390558\n",
      "P-value: 0.03190661185606014\n"
     ]
    }
   ],
   "source": [
    "                                # Name-: Rohit Bhardwaj                               \n",
    "                                 # Batch-: Data science Master\n",
    "                                 # Asssignment :- Statistics Advance_6\n",
    "\n",
    "\n",
    "\n",
    "\n",
    "# Q1. Write a Python function that takes in two arrays of data and calculates the F-value for a variance ratio\n",
    "# test. The function should return the F-value and the corresponding p-value for the test.\n",
    "\n",
    "import numpy as np\n",
    "from scipy.stats import f_oneway\n",
    "\n",
    "\n",
    "def calculate_f_value_and_p_value(data1,data2):\n",
    "    data1 = np.array(data1)\n",
    "    data2 = np.array(data2)\n",
    "    \n",
    "    f_statistics,p_value = f_oneway(data1,data2) \n",
    "    return f_statistics,p_value\n",
    "\n",
    "\n",
    "data1 = [23,25,30,28,32]\n",
    "data2 = [18,20,22,26,24]\n",
    "\n",
    "f_value, p_value = calculate_f_value_and_p_value(data1,data2)\n",
    "print(\"F-value\",f_value)\n",
    "print(\"P-value:\", p_value)\n",
    "\n",
    "\n",
    "\n",
    "\n",
    "\n",
    "\n"
   ]
  },
  {
   "cell_type": "code",
   "execution_count": null,
   "id": "038f913f-27ce-400f-9f4a-cf7d7f3d87b7",
   "metadata": {},
   "outputs": [],
   "source": []
  },
  {
   "cell_type": "code",
   "execution_count": 31,
   "id": "f68344e7-8157-4f78-80d9-8918f1df04d3",
   "metadata": {},
   "outputs": [
    {
     "name": "stdout",
     "output_type": "stream",
     "text": [
      "Critical F-value: 3.8586986662732143\n"
     ]
    }
   ],
   "source": [
    "# Q2. Given a significance level of 0.05 and the degrees of freedom for the numerator and denominator of an\n",
    "# F-distribution, write a Python function that returns the critical F-value for a two-tailed test.\n",
    "\n",
    "\n",
    "import scipy.stats as stats\n",
    "\n",
    "def get_critical_f_value(alpha,df_num,df_denom):\n",
    "    alpha_over_2 = alpha/2\n",
    "    criticl_f_value = stats.f.ppf(1-alpha_over_2,df_num,df_denom)\n",
    "    \n",
    "    return criticl_f_value\n",
    "\n",
    "alpha = 0.05\n",
    "df_num = 3\n",
    "df_denom = 20\n",
    "\n",
    "criticl_f=  get_critical_f_value(alpha,df_num,df_denom)\n",
    "print(\"Critical F-value:\", critical_f)   \n"
   ]
  },
  {
   "cell_type": "code",
   "execution_count": null,
   "id": "5ffe3555-2128-4a2f-959a-1ea9664483c2",
   "metadata": {},
   "outputs": [],
   "source": []
  },
  {
   "cell_type": "code",
   "execution_count": 37,
   "id": "8a433a8c-67cc-4e2c-8cb4-3f642f470684",
   "metadata": {},
   "outputs": [
    {
     "name": "stdout",
     "output_type": "stream",
     "text": [
      "F-value: 1.0863928559446847\n",
      "Degrees of freedom: 29 29\n",
      "P-value: 0.8249607865956787\n",
      "Fail to reject the null hypothesis: Variances are equal.\n"
     ]
    }
   ],
   "source": [
    "# Q3. Write a Python program that generates random samples from two normal distributions with known\n",
    "# variances and uses an F-test to determine if the variances are equal. The program should output the F-\n",
    "# value, degrees of freedom, and p-value for the test.\n",
    "\n",
    "import numpy as np\n",
    "import scipy.stats as stats\n",
    "\n",
    "# Set random seed for reproducibility\n",
    "np.random.seed(0)\n",
    "\n",
    "# Parameters for the two normal distributions\n",
    "mean1 = 0\n",
    "variance1 = 1.5  # Known variance for the first distribution\n",
    "sample_size1 = 30\n",
    "\n",
    "mean2 = 0\n",
    "variance2 = 2.0  # Known variance for the second distribution\n",
    "sample_size2 = 30\n",
    "\n",
    "# Generate random samples from the two distributions\n",
    "sample1 = np.random.normal(mean1, np.sqrt(variance1), sample_size1)\n",
    "sample2 = np.random.normal(mean2, np.sqrt(variance2), sample_size2)\n",
    "\n",
    " # Perform an F-test to compare variances\n",
    "f_statistic = np.var(sample1, ddof=1) / np.var(sample2, ddof=1)\n",
    "df1 = sample_size1 - 1\n",
    "df2 = sample_size2 - 1\n",
    "p_value = 2 * min(stats.f.cdf(f_statistic, df1, df2), 1 - stats.f.cdf(f_statistic, df1, df2))\n",
    "\n",
    "print(\"F-value:\", f_statistic)\n",
    "print(\"Degrees of freedom:\", df1, df2)\n",
    "print(\"P-value:\", p_value)\n",
    "\n",
    " # Check the result against a significance level (e.g., 0.05)\n",
    "alpha = 0.05\n",
    "if p_value < alpha:\n",
    "     print(\"Reject the null hypothesis: Variances are not equal.\")\n",
    "else:\n",
    "     print(\"Fail to reject the null hypothesis: Variances are equal.\")\n"
   ]
  },
  {
   "cell_type": "code",
   "execution_count": null,
   "id": "d921b64f-6bb6-41e8-9055-5af39638b59a",
   "metadata": {},
   "outputs": [],
   "source": []
  }
 ],
 "metadata": {
  "kernelspec": {
   "display_name": "Python 3 (ipykernel)",
   "language": "python",
   "name": "python3"
  },
  "language_info": {
   "codemirror_mode": {
    "name": "ipython",
    "version": 3
   },
   "file_extension": ".py",
   "mimetype": "text/x-python",
   "name": "python",
   "nbconvert_exporter": "python",
   "pygments_lexer": "ipython3",
   "version": "3.10.8"
  }
 },
 "nbformat": 4,
 "nbformat_minor": 5
}
